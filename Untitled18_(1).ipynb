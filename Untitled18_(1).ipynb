{
  "cells": [
    {
      "cell_type": "markdown",
      "metadata": {
        "id": "view-in-github",
        "colab_type": "text"
      },
      "source": [
        "<a href=\"https://colab.research.google.com/github/akshayajju6083/Simon-says-game/blob/main/Untitled18_(1).ipynb\" target=\"_parent\"><img src=\"https://colab.research.google.com/assets/colab-badge.svg\" alt=\"Open In Colab\"/></a>"
      ]
    },
    {
      "cell_type": "code",
      "execution_count": null,
      "id": "a12b76c4-7ee4-451b-8c03-10ed8e01a4d1",
      "metadata": {
        "colab": {
          "base_uri": "https://localhost:8080/",
          "height": 106
        },
        "id": "a12b76c4-7ee4-451b-8c03-10ed8e01a4d1",
        "outputId": "db236eb8-1942-461d-c004-5e3444d31eba",
        "collapsed": true
      },
      "outputs": [
        {
          "output_type": "error",
          "ename": "SyntaxError",
          "evalue": "invalid syntax (ipython-input-3878373599.py, line 3)",
          "traceback": [
            "\u001b[0;36m  File \u001b[0;32m\"/tmp/ipython-input-3878373599.py\"\u001b[0;36m, line \u001b[0;32m3\u001b[0m\n\u001b[0;31m    This notebook covers the complete **data cleaning process** for the *News Category Dataset*.\u001b[0m\n\u001b[0m         ^\u001b[0m\n\u001b[0;31mSyntaxError\u001b[0m\u001b[0;31m:\u001b[0m invalid syntax\n"
          ]
        }
      ],
      "source": [
        "# **📰 News Category Dataset**\n",
        "\n",
        "This notebook covers the complete **data cleaning process** for the *News Category Dataset*.\n",
        "We performed the following steps:\n",
        "\n",
        "- Introduced and handled missing values\n",
        "- Fixed incorrect data types\n",
        "- Standardized text data\n",
        "- Exported the cleaned dataset for further analysis\n"
      ]
    },
    {
      "cell_type": "markdown",
      "id": "c72d6bff-b648-4135-9900-fcc0088b629f",
      "metadata": {
        "id": "c72d6bff-b648-4135-9900-fcc0088b629f"
      },
      "source": [
        "## Project Overview\n",
        "\n",
        "The **News Category Dataset** (by Misra, Kaggle) contains news headlines and short descriptions from the Huffington Post, along with publication dates and assigned categories.\n",
        "\n",
        "Our task in this phase is to **perform thorough data cleaning** so the dataset is ready for analysis and machine learning models."
      ]
    },
    {
      "cell_type": "markdown",
      "id": "34010f3a-ee08-4986-bc10-254c25ef9208",
      "metadata": {
        "id": "34010f3a-ee08-4986-bc10-254c25ef9208"
      },
      "source": [
        "# News Category Dataset — Data Cleaning & Preprocessing   \n",
        "**Description:** Cleaning and preprocessing the “News Category Dataset” from Kaggle for downstream tasks (e.g. classification, analysis).\n"
      ]
    },
    {
      "cell_type": "markdown",
      "id": "c3b3c096-a689-4880-94e2-5d5daf46bb77",
      "metadata": {
        "id": "c3b3c096-a689-4880-94e2-5d5daf46bb77"
      },
      "source": [
        "## Objectives\n",
        "\n",
        "- Load and explore the dataset  \n",
        "- Handle missing, duplicate, and inconsistent data  \n",
        "- Clean and normalize text fields  \n",
        "- Verify category distribution  \n",
        "- Save the cleaned dataset for further use"
      ]
    },
    {
      "cell_type": "code",
      "execution_count": 68,
      "id": "4daf30fb-77eb-4cb5-8a94-ba341960f566",
      "metadata": {
        "id": "4daf30fb-77eb-4cb5-8a94-ba341960f566"
      },
      "outputs": [],
      "source": [
        "import pandas as pd\n",
        "import numpy as np\n",
        "import matplotlib.pyplot as plt\n",
        "import seaborn as sns\n",
        "import re"
      ]
    },
    {
      "cell_type": "code",
      "execution_count": 69,
      "id": "2f0fbc72-504a-4f3b-a859-4386c03da18a",
      "metadata": {
        "id": "2f0fbc72-504a-4f3b-a859-4386c03da18a"
      },
      "outputs": [],
      "source": [
        "df = pd.read_json('/content/News_Category_Dataset_v3.json', lines=True)"
      ]
    },
    {
      "cell_type": "code",
      "execution_count": 70,
      "id": "17d8dd14-d9b1-4c55-8df1-757575480247",
      "metadata": {
        "colab": {
          "base_uri": "https://localhost:8080/",
          "height": 588
        },
        "id": "17d8dd14-d9b1-4c55-8df1-757575480247",
        "outputId": "b2039691-51de-4665-b2f7-de6407cd32ae"
      },
      "outputs": [
        {
          "output_type": "stream",
          "name": "stdout",
          "text": [
            "<class 'pandas.core.frame.DataFrame'>\n",
            "RangeIndex: 209527 entries, 0 to 209526\n",
            "Data columns (total 6 columns):\n",
            " #   Column             Non-Null Count   Dtype         \n",
            "---  ------             --------------   -----         \n",
            " 0   link               209527 non-null  object        \n",
            " 1   headline           209527 non-null  object        \n",
            " 2   category           209527 non-null  object        \n",
            " 3   short_description  209527 non-null  object        \n",
            " 4   authors            209527 non-null  object        \n",
            " 5   date               209527 non-null  datetime64[ns]\n",
            "dtypes: datetime64[ns](1), object(5)\n",
            "memory usage: 9.6+ MB\n"
          ]
        },
        {
          "output_type": "execute_result",
          "data": {
            "text/plain": [
              "                                                     link        headline  \\\n",
              "count                                              209527          209527   \n",
              "unique                                             209486          207996   \n",
              "top     https://www.huffingtonpost.comhttp://stylelike...  Sunday Roundup   \n",
              "freq                                                    2              90   \n",
              "mean                                                  NaN             NaN   \n",
              "min                                                   NaN             NaN   \n",
              "25%                                                   NaN             NaN   \n",
              "50%                                                   NaN             NaN   \n",
              "75%                                                   NaN             NaN   \n",
              "max                                                   NaN             NaN   \n",
              "\n",
              "        category short_description authors                           date  \n",
              "count     209527            209527  209527                         209527  \n",
              "unique        42            187022   29169                            NaN  \n",
              "top     POLITICS                                                      NaN  \n",
              "freq       35602             19712   37418                            NaN  \n",
              "mean         NaN               NaN     NaN  2015-04-30 00:44:14.344308736  \n",
              "min          NaN               NaN     NaN            2012-01-28 00:00:00  \n",
              "25%          NaN               NaN     NaN            2013-08-10 00:00:00  \n",
              "50%          NaN               NaN     NaN            2015-03-16 00:00:00  \n",
              "75%          NaN               NaN     NaN            2016-11-01 00:00:00  \n",
              "max          NaN               NaN     NaN            2022-09-23 00:00:00  "
            ],
            "text/html": [
              "\n",
              "  <div id=\"df-fbacbfcf-7804-45cb-9a3d-04599138f388\" class=\"colab-df-container\">\n",
              "    <div>\n",
              "<style scoped>\n",
              "    .dataframe tbody tr th:only-of-type {\n",
              "        vertical-align: middle;\n",
              "    }\n",
              "\n",
              "    .dataframe tbody tr th {\n",
              "        vertical-align: top;\n",
              "    }\n",
              "\n",
              "    .dataframe thead th {\n",
              "        text-align: right;\n",
              "    }\n",
              "</style>\n",
              "<table border=\"1\" class=\"dataframe\">\n",
              "  <thead>\n",
              "    <tr style=\"text-align: right;\">\n",
              "      <th></th>\n",
              "      <th>link</th>\n",
              "      <th>headline</th>\n",
              "      <th>category</th>\n",
              "      <th>short_description</th>\n",
              "      <th>authors</th>\n",
              "      <th>date</th>\n",
              "    </tr>\n",
              "  </thead>\n",
              "  <tbody>\n",
              "    <tr>\n",
              "      <th>count</th>\n",
              "      <td>209527</td>\n",
              "      <td>209527</td>\n",
              "      <td>209527</td>\n",
              "      <td>209527</td>\n",
              "      <td>209527</td>\n",
              "      <td>209527</td>\n",
              "    </tr>\n",
              "    <tr>\n",
              "      <th>unique</th>\n",
              "      <td>209486</td>\n",
              "      <td>207996</td>\n",
              "      <td>42</td>\n",
              "      <td>187022</td>\n",
              "      <td>29169</td>\n",
              "      <td>NaN</td>\n",
              "    </tr>\n",
              "    <tr>\n",
              "      <th>top</th>\n",
              "      <td>https://www.huffingtonpost.comhttp://stylelike...</td>\n",
              "      <td>Sunday Roundup</td>\n",
              "      <td>POLITICS</td>\n",
              "      <td></td>\n",
              "      <td></td>\n",
              "      <td>NaN</td>\n",
              "    </tr>\n",
              "    <tr>\n",
              "      <th>freq</th>\n",
              "      <td>2</td>\n",
              "      <td>90</td>\n",
              "      <td>35602</td>\n",
              "      <td>19712</td>\n",
              "      <td>37418</td>\n",
              "      <td>NaN</td>\n",
              "    </tr>\n",
              "    <tr>\n",
              "      <th>mean</th>\n",
              "      <td>NaN</td>\n",
              "      <td>NaN</td>\n",
              "      <td>NaN</td>\n",
              "      <td>NaN</td>\n",
              "      <td>NaN</td>\n",
              "      <td>2015-04-30 00:44:14.344308736</td>\n",
              "    </tr>\n",
              "    <tr>\n",
              "      <th>min</th>\n",
              "      <td>NaN</td>\n",
              "      <td>NaN</td>\n",
              "      <td>NaN</td>\n",
              "      <td>NaN</td>\n",
              "      <td>NaN</td>\n",
              "      <td>2012-01-28 00:00:00</td>\n",
              "    </tr>\n",
              "    <tr>\n",
              "      <th>25%</th>\n",
              "      <td>NaN</td>\n",
              "      <td>NaN</td>\n",
              "      <td>NaN</td>\n",
              "      <td>NaN</td>\n",
              "      <td>NaN</td>\n",
              "      <td>2013-08-10 00:00:00</td>\n",
              "    </tr>\n",
              "    <tr>\n",
              "      <th>50%</th>\n",
              "      <td>NaN</td>\n",
              "      <td>NaN</td>\n",
              "      <td>NaN</td>\n",
              "      <td>NaN</td>\n",
              "      <td>NaN</td>\n",
              "      <td>2015-03-16 00:00:00</td>\n",
              "    </tr>\n",
              "    <tr>\n",
              "      <th>75%</th>\n",
              "      <td>NaN</td>\n",
              "      <td>NaN</td>\n",
              "      <td>NaN</td>\n",
              "      <td>NaN</td>\n",
              "      <td>NaN</td>\n",
              "      <td>2016-11-01 00:00:00</td>\n",
              "    </tr>\n",
              "    <tr>\n",
              "      <th>max</th>\n",
              "      <td>NaN</td>\n",
              "      <td>NaN</td>\n",
              "      <td>NaN</td>\n",
              "      <td>NaN</td>\n",
              "      <td>NaN</td>\n",
              "      <td>2022-09-23 00:00:00</td>\n",
              "    </tr>\n",
              "  </tbody>\n",
              "</table>\n",
              "</div>\n",
              "    <div class=\"colab-df-buttons\">\n",
              "\n",
              "  <div class=\"colab-df-container\">\n",
              "    <button class=\"colab-df-convert\" onclick=\"convertToInteractive('df-fbacbfcf-7804-45cb-9a3d-04599138f388')\"\n",
              "            title=\"Convert this dataframe to an interactive table.\"\n",
              "            style=\"display:none;\">\n",
              "\n",
              "  <svg xmlns=\"http://www.w3.org/2000/svg\" height=\"24px\" viewBox=\"0 -960 960 960\">\n",
              "    <path d=\"M120-120v-720h720v720H120Zm60-500h600v-160H180v160Zm220 220h160v-160H400v160Zm0 220h160v-160H400v160ZM180-400h160v-160H180v160Zm440 0h160v-160H620v160ZM180-180h160v-160H180v160Zm440 0h160v-160H620v160Z\"/>\n",
              "  </svg>\n",
              "    </button>\n",
              "\n",
              "  <style>\n",
              "    .colab-df-container {\n",
              "      display:flex;\n",
              "      gap: 12px;\n",
              "    }\n",
              "\n",
              "    .colab-df-convert {\n",
              "      background-color: #E8F0FE;\n",
              "      border: none;\n",
              "      border-radius: 50%;\n",
              "      cursor: pointer;\n",
              "      display: none;\n",
              "      fill: #1967D2;\n",
              "      height: 32px;\n",
              "      padding: 0 0 0 0;\n",
              "      width: 32px;\n",
              "    }\n",
              "\n",
              "    .colab-df-convert:hover {\n",
              "      background-color: #E2EBFA;\n",
              "      box-shadow: 0px 1px 2px rgba(60, 64, 67, 0.3), 0px 1px 3px 1px rgba(60, 64, 67, 0.15);\n",
              "      fill: #174EA6;\n",
              "    }\n",
              "\n",
              "    .colab-df-buttons div {\n",
              "      margin-bottom: 4px;\n",
              "    }\n",
              "\n",
              "    [theme=dark] .colab-df-convert {\n",
              "      background-color: #3B4455;\n",
              "      fill: #D2E3FC;\n",
              "    }\n",
              "\n",
              "    [theme=dark] .colab-df-convert:hover {\n",
              "      background-color: #434B5C;\n",
              "      box-shadow: 0px 1px 3px 1px rgba(0, 0, 0, 0.15);\n",
              "      filter: drop-shadow(0px 1px 2px rgba(0, 0, 0, 0.3));\n",
              "      fill: #FFFFFF;\n",
              "    }\n",
              "  </style>\n",
              "\n",
              "    <script>\n",
              "      const buttonEl =\n",
              "        document.querySelector('#df-fbacbfcf-7804-45cb-9a3d-04599138f388 button.colab-df-convert');\n",
              "      buttonEl.style.display =\n",
              "        google.colab.kernel.accessAllowed ? 'block' : 'none';\n",
              "\n",
              "      async function convertToInteractive(key) {\n",
              "        const element = document.querySelector('#df-fbacbfcf-7804-45cb-9a3d-04599138f388');\n",
              "        const dataTable =\n",
              "          await google.colab.kernel.invokeFunction('convertToInteractive',\n",
              "                                                    [key], {});\n",
              "        if (!dataTable) return;\n",
              "\n",
              "        const docLinkHtml = 'Like what you see? Visit the ' +\n",
              "          '<a target=\"_blank\" href=https://colab.research.google.com/notebooks/data_table.ipynb>data table notebook</a>'\n",
              "          + ' to learn more about interactive tables.';\n",
              "        element.innerHTML = '';\n",
              "        dataTable['output_type'] = 'display_data';\n",
              "        await google.colab.output.renderOutput(dataTable, element);\n",
              "        const docLink = document.createElement('div');\n",
              "        docLink.innerHTML = docLinkHtml;\n",
              "        element.appendChild(docLink);\n",
              "      }\n",
              "    </script>\n",
              "  </div>\n",
              "\n",
              "\n",
              "    <div id=\"df-f1532eff-c64b-456a-b77f-28d5f18edddf\">\n",
              "      <button class=\"colab-df-quickchart\" onclick=\"quickchart('df-f1532eff-c64b-456a-b77f-28d5f18edddf')\"\n",
              "                title=\"Suggest charts\"\n",
              "                style=\"display:none;\">\n",
              "\n",
              "<svg xmlns=\"http://www.w3.org/2000/svg\" height=\"24px\"viewBox=\"0 0 24 24\"\n",
              "     width=\"24px\">\n",
              "    <g>\n",
              "        <path d=\"M19 3H5c-1.1 0-2 .9-2 2v14c0 1.1.9 2 2 2h14c1.1 0 2-.9 2-2V5c0-1.1-.9-2-2-2zM9 17H7v-7h2v7zm4 0h-2V7h2v10zm4 0h-2v-4h2v4z\"/>\n",
              "    </g>\n",
              "</svg>\n",
              "      </button>\n",
              "\n",
              "<style>\n",
              "  .colab-df-quickchart {\n",
              "      --bg-color: #E8F0FE;\n",
              "      --fill-color: #1967D2;\n",
              "      --hover-bg-color: #E2EBFA;\n",
              "      --hover-fill-color: #174EA6;\n",
              "      --disabled-fill-color: #AAA;\n",
              "      --disabled-bg-color: #DDD;\n",
              "  }\n",
              "\n",
              "  [theme=dark] .colab-df-quickchart {\n",
              "      --bg-color: #3B4455;\n",
              "      --fill-color: #D2E3FC;\n",
              "      --hover-bg-color: #434B5C;\n",
              "      --hover-fill-color: #FFFFFF;\n",
              "      --disabled-bg-color: #3B4455;\n",
              "      --disabled-fill-color: #666;\n",
              "  }\n",
              "\n",
              "  .colab-df-quickchart {\n",
              "    background-color: var(--bg-color);\n",
              "    border: none;\n",
              "    border-radius: 50%;\n",
              "    cursor: pointer;\n",
              "    display: none;\n",
              "    fill: var(--fill-color);\n",
              "    height: 32px;\n",
              "    padding: 0;\n",
              "    width: 32px;\n",
              "  }\n",
              "\n",
              "  .colab-df-quickchart:hover {\n",
              "    background-color: var(--hover-bg-color);\n",
              "    box-shadow: 0 1px 2px rgba(60, 64, 67, 0.3), 0 1px 3px 1px rgba(60, 64, 67, 0.15);\n",
              "    fill: var(--button-hover-fill-color);\n",
              "  }\n",
              "\n",
              "  .colab-df-quickchart-complete:disabled,\n",
              "  .colab-df-quickchart-complete:disabled:hover {\n",
              "    background-color: var(--disabled-bg-color);\n",
              "    fill: var(--disabled-fill-color);\n",
              "    box-shadow: none;\n",
              "  }\n",
              "\n",
              "  .colab-df-spinner {\n",
              "    border: 2px solid var(--fill-color);\n",
              "    border-color: transparent;\n",
              "    border-bottom-color: var(--fill-color);\n",
              "    animation:\n",
              "      spin 1s steps(1) infinite;\n",
              "  }\n",
              "\n",
              "  @keyframes spin {\n",
              "    0% {\n",
              "      border-color: transparent;\n",
              "      border-bottom-color: var(--fill-color);\n",
              "      border-left-color: var(--fill-color);\n",
              "    }\n",
              "    20% {\n",
              "      border-color: transparent;\n",
              "      border-left-color: var(--fill-color);\n",
              "      border-top-color: var(--fill-color);\n",
              "    }\n",
              "    30% {\n",
              "      border-color: transparent;\n",
              "      border-left-color: var(--fill-color);\n",
              "      border-top-color: var(--fill-color);\n",
              "      border-right-color: var(--fill-color);\n",
              "    }\n",
              "    40% {\n",
              "      border-color: transparent;\n",
              "      border-right-color: var(--fill-color);\n",
              "      border-top-color: var(--fill-color);\n",
              "    }\n",
              "    60% {\n",
              "      border-color: transparent;\n",
              "      border-right-color: var(--fill-color);\n",
              "    }\n",
              "    80% {\n",
              "      border-color: transparent;\n",
              "      border-right-color: var(--fill-color);\n",
              "      border-bottom-color: var(--fill-color);\n",
              "    }\n",
              "    90% {\n",
              "      border-color: transparent;\n",
              "      border-bottom-color: var(--fill-color);\n",
              "    }\n",
              "  }\n",
              "</style>\n",
              "\n",
              "      <script>\n",
              "        async function quickchart(key) {\n",
              "          const quickchartButtonEl =\n",
              "            document.querySelector('#' + key + ' button');\n",
              "          quickchartButtonEl.disabled = true;  // To prevent multiple clicks.\n",
              "          quickchartButtonEl.classList.add('colab-df-spinner');\n",
              "          try {\n",
              "            const charts = await google.colab.kernel.invokeFunction(\n",
              "                'suggestCharts', [key], {});\n",
              "          } catch (error) {\n",
              "            console.error('Error during call to suggestCharts:', error);\n",
              "          }\n",
              "          quickchartButtonEl.classList.remove('colab-df-spinner');\n",
              "          quickchartButtonEl.classList.add('colab-df-quickchart-complete');\n",
              "        }\n",
              "        (() => {\n",
              "          let quickchartButtonEl =\n",
              "            document.querySelector('#df-f1532eff-c64b-456a-b77f-28d5f18edddf button');\n",
              "          quickchartButtonEl.style.display =\n",
              "            google.colab.kernel.accessAllowed ? 'block' : 'none';\n",
              "        })();\n",
              "      </script>\n",
              "    </div>\n",
              "\n",
              "    </div>\n",
              "  </div>\n"
            ],
            "application/vnd.google.colaboratory.intrinsic+json": {
              "type": "dataframe",
              "summary": "{\n  \"name\": \"df\",\n  \"rows\": 10,\n  \"fields\": [\n    {\n      \"column\": \"link\",\n      \"properties\": {\n        \"dtype\": \"category\",\n        \"num_unique_values\": 4,\n        \"samples\": [\n          209486,\n          \"2\",\n          \"209527\"\n        ],\n        \"semantic_type\": \"\",\n        \"description\": \"\"\n      }\n    },\n    {\n      \"column\": \"headline\",\n      \"properties\": {\n        \"dtype\": \"category\",\n        \"num_unique_values\": 4,\n        \"samples\": [\n          207996,\n          \"90\",\n          \"209527\"\n        ],\n        \"semantic_type\": \"\",\n        \"description\": \"\"\n      }\n    },\n    {\n      \"column\": \"category\",\n      \"properties\": {\n        \"dtype\": \"category\",\n        \"num_unique_values\": 4,\n        \"samples\": [\n          42,\n          \"35602\",\n          \"209527\"\n        ],\n        \"semantic_type\": \"\",\n        \"description\": \"\"\n      }\n    },\n    {\n      \"column\": \"short_description\",\n      \"properties\": {\n        \"dtype\": \"date\",\n        \"min\": \"1970-01-01 00:00:00.000019712\",\n        \"max\": \"1970-01-01 00:00:00.000209527\",\n        \"num_unique_values\": 4,\n        \"samples\": [\n          187022,\n          \"19712\",\n          \"209527\"\n        ],\n        \"semantic_type\": \"\",\n        \"description\": \"\"\n      }\n    },\n    {\n      \"column\": \"authors\",\n      \"properties\": {\n        \"dtype\": \"date\",\n        \"min\": \"1970-01-01 00:00:00.000029169\",\n        \"max\": \"1970-01-01 00:00:00.000209527\",\n        \"num_unique_values\": 4,\n        \"samples\": [\n          29169,\n          \"37418\",\n          \"209527\"\n        ],\n        \"semantic_type\": \"\",\n        \"description\": \"\"\n      }\n    },\n    {\n      \"column\": \"date\",\n      \"properties\": {\n        \"dtype\": \"date\",\n        \"min\": \"1970-01-01 00:00:00.000209527\",\n        \"max\": \"2022-09-23 00:00:00\",\n        \"num_unique_values\": 7,\n        \"samples\": [\n          \"209527\",\n          \"2015-04-30 00:44:14.344308736\",\n          \"2016-11-01 00:00:00\"\n        ],\n        \"semantic_type\": \"\",\n        \"description\": \"\"\n      }\n    }\n  ]\n}"
            }
          },
          "metadata": {},
          "execution_count": 70
        }
      ],
      "source": [
        "df.head()\n",
        "df.info()\n",
        "df.describe(include='all')"
      ]
    },
    {
      "cell_type": "markdown",
      "id": "eaf144d9-e013-4b18-9f1d-eceb70539126",
      "metadata": {
        "id": "eaf144d9-e013-4b18-9f1d-eceb70539126"
      },
      "source": [
        "## Step 3: Initial Data Exploration (EDA)"
      ]
    },
    {
      "cell_type": "code",
      "execution_count": 71,
      "id": "213a77e2-417b-464c-b69e-c36815e721dd",
      "metadata": {
        "id": "213a77e2-417b-464c-b69e-c36815e721dd",
        "outputId": "ca13ae7e-3beb-4979-ab68-a4404b3f9518",
        "colab": {
          "base_uri": "https://localhost:8080/",
          "height": 335
        }
      },
      "outputs": [
        {
          "output_type": "execute_result",
          "data": {
            "text/plain": [
              "count    209527.000000\n",
              "mean        114.208670\n",
              "std          80.840575\n",
              "min           0.000000\n",
              "25%          59.000000\n",
              "50%         120.000000\n",
              "75%         134.000000\n",
              "max        1472.000000\n",
              "Name: short_description, dtype: float64"
            ],
            "text/html": [
              "<div>\n",
              "<style scoped>\n",
              "    .dataframe tbody tr th:only-of-type {\n",
              "        vertical-align: middle;\n",
              "    }\n",
              "\n",
              "    .dataframe tbody tr th {\n",
              "        vertical-align: top;\n",
              "    }\n",
              "\n",
              "    .dataframe thead th {\n",
              "        text-align: right;\n",
              "    }\n",
              "</style>\n",
              "<table border=\"1\" class=\"dataframe\">\n",
              "  <thead>\n",
              "    <tr style=\"text-align: right;\">\n",
              "      <th></th>\n",
              "      <th>short_description</th>\n",
              "    </tr>\n",
              "  </thead>\n",
              "  <tbody>\n",
              "    <tr>\n",
              "      <th>count</th>\n",
              "      <td>209527.000000</td>\n",
              "    </tr>\n",
              "    <tr>\n",
              "      <th>mean</th>\n",
              "      <td>114.208670</td>\n",
              "    </tr>\n",
              "    <tr>\n",
              "      <th>std</th>\n",
              "      <td>80.840575</td>\n",
              "    </tr>\n",
              "    <tr>\n",
              "      <th>min</th>\n",
              "      <td>0.000000</td>\n",
              "    </tr>\n",
              "    <tr>\n",
              "      <th>25%</th>\n",
              "      <td>59.000000</td>\n",
              "    </tr>\n",
              "    <tr>\n",
              "      <th>50%</th>\n",
              "      <td>120.000000</td>\n",
              "    </tr>\n",
              "    <tr>\n",
              "      <th>75%</th>\n",
              "      <td>134.000000</td>\n",
              "    </tr>\n",
              "    <tr>\n",
              "      <th>max</th>\n",
              "      <td>1472.000000</td>\n",
              "    </tr>\n",
              "  </tbody>\n",
              "</table>\n",
              "</div><br><label><b>dtype:</b> float64</label>"
            ]
          },
          "metadata": {},
          "execution_count": 71
        }
      ],
      "source": [
        "df.isna().sum()\n",
        "df['category'].value_counts().head(10)\n",
        "df['headline'].str.len().describe()\n",
        "df['short_description'].str.len().describe()"
      ]
    },
    {
      "cell_type": "code",
      "execution_count": 72,
      "id": "29c331a4-af6a-47d1-984a-47e151f76264",
      "metadata": {
        "id": "29c331a4-af6a-47d1-984a-47e151f76264",
        "outputId": "f19b016a-0c0e-4067-ebde-55eb17743a34",
        "colab": {
          "base_uri": "https://localhost:8080/",
          "height": 272
        }
      },
      "outputs": [
        {
          "output_type": "execute_result",
          "data": {
            "text/plain": [
              "link                 0\n",
              "headline             0\n",
              "category             0\n",
              "short_description    0\n",
              "authors              0\n",
              "date                 0\n",
              "dtype: int64"
            ],
            "text/html": [
              "<div>\n",
              "<style scoped>\n",
              "    .dataframe tbody tr th:only-of-type {\n",
              "        vertical-align: middle;\n",
              "    }\n",
              "\n",
              "    .dataframe tbody tr th {\n",
              "        vertical-align: top;\n",
              "    }\n",
              "\n",
              "    .dataframe thead th {\n",
              "        text-align: right;\n",
              "    }\n",
              "</style>\n",
              "<table border=\"1\" class=\"dataframe\">\n",
              "  <thead>\n",
              "    <tr style=\"text-align: right;\">\n",
              "      <th></th>\n",
              "      <th>0</th>\n",
              "    </tr>\n",
              "  </thead>\n",
              "  <tbody>\n",
              "    <tr>\n",
              "      <th>link</th>\n",
              "      <td>0</td>\n",
              "    </tr>\n",
              "    <tr>\n",
              "      <th>headline</th>\n",
              "      <td>0</td>\n",
              "    </tr>\n",
              "    <tr>\n",
              "      <th>category</th>\n",
              "      <td>0</td>\n",
              "    </tr>\n",
              "    <tr>\n",
              "      <th>short_description</th>\n",
              "      <td>0</td>\n",
              "    </tr>\n",
              "    <tr>\n",
              "      <th>authors</th>\n",
              "      <td>0</td>\n",
              "    </tr>\n",
              "    <tr>\n",
              "      <th>date</th>\n",
              "      <td>0</td>\n",
              "    </tr>\n",
              "  </tbody>\n",
              "</table>\n",
              "</div><br><label><b>dtype:</b> int64</label>"
            ]
          },
          "metadata": {},
          "execution_count": 72
        }
      ],
      "source": [
        "df.isna().sum()"
      ]
    },
    {
      "cell_type": "markdown",
      "id": "c316225f-c6d7-4cdf-aa4a-c9305cde7f86",
      "metadata": {
        "id": "c316225f-c6d7-4cdf-aa4a-c9305cde7f86"
      },
      "source": [
        "### Introducing Missing Values for Demonstration\n",
        "\n",
        "To simulate a more realistic dataset and practice handling missing data, we will randomly introduce some `NaN` (null) values in the following columns:\n",
        "\n",
        "- **authors** → 5 randomly selected rows will have missing author names.  \n",
        "- **short_description** → 5 randomly selected rows will have missing descriptions.  \n",
        "- **category** → 5 randomly selected rows will have missing category labels.  \n",
        "\n",
        "This will help us demonstrate data cleaning techniques such as handling null values later in the notebook.\n"
      ]
    },
    {
      "cell_type": "code",
      "execution_count": 73,
      "id": "372d0d62-95c0-42fa-9e37-29408aa5cc23",
      "metadata": {
        "id": "372d0d62-95c0-42fa-9e37-29408aa5cc23"
      },
      "outputs": [],
      "source": [
        "import numpy as np\n",
        "np.random.seed(42)\n",
        "\n",
        "null_indices = np.random.choice(df.index, 5, replace=False)\n",
        "df.loc[null_indices, 'authors'] = np.nan  #authors missing\n",
        "\n",
        "null_indices = np.random.choice(df.index, 8, replace=False)\n",
        "df.loc[null_indices, 'short_description'] = np.nan  #descriptions missing\n",
        "\n",
        "null_indices = np.random.choice(df.index, 3, replace=False)\n",
        "df.loc[null_indices, 'category'] = np.nan  #categories missing\n"
      ]
    },
    {
      "cell_type": "code",
      "execution_count": 74,
      "id": "4a63dc0d-2bd4-4847-9c32-5fe12b90135b",
      "metadata": {
        "id": "4a63dc0d-2bd4-4847-9c32-5fe12b90135b",
        "outputId": "d7995588-aae2-4767-e4df-3d08b04fc51e",
        "colab": {
          "base_uri": "https://localhost:8080/"
        }
      },
      "outputs": [
        {
          "output_type": "execute_result",
          "data": {
            "text/plain": [
              "Index(['link', 'headline', 'category', 'short_description', 'authors', 'date'], dtype='object')"
            ]
          },
          "metadata": {},
          "execution_count": 74
        }
      ],
      "source": [
        "df.columns"
      ]
    },
    {
      "cell_type": "code",
      "execution_count": 75,
      "id": "445b4962-77a1-46a1-87d1-dd8716ef519f",
      "metadata": {
        "id": "445b4962-77a1-46a1-87d1-dd8716ef519f",
        "outputId": "b74d91e6-9566-4982-8a10-56c51f105ca5",
        "colab": {
          "base_uri": "https://localhost:8080/",
          "height": 272
        }
      },
      "outputs": [
        {
          "output_type": "execute_result",
          "data": {
            "text/plain": [
              "link                 0\n",
              "headline             0\n",
              "category             3\n",
              "short_description    8\n",
              "authors              5\n",
              "date                 0\n",
              "dtype: int64"
            ],
            "text/html": [
              "<div>\n",
              "<style scoped>\n",
              "    .dataframe tbody tr th:only-of-type {\n",
              "        vertical-align: middle;\n",
              "    }\n",
              "\n",
              "    .dataframe tbody tr th {\n",
              "        vertical-align: top;\n",
              "    }\n",
              "\n",
              "    .dataframe thead th {\n",
              "        text-align: right;\n",
              "    }\n",
              "</style>\n",
              "<table border=\"1\" class=\"dataframe\">\n",
              "  <thead>\n",
              "    <tr style=\"text-align: right;\">\n",
              "      <th></th>\n",
              "      <th>0</th>\n",
              "    </tr>\n",
              "  </thead>\n",
              "  <tbody>\n",
              "    <tr>\n",
              "      <th>link</th>\n",
              "      <td>0</td>\n",
              "    </tr>\n",
              "    <tr>\n",
              "      <th>headline</th>\n",
              "      <td>0</td>\n",
              "    </tr>\n",
              "    <tr>\n",
              "      <th>category</th>\n",
              "      <td>3</td>\n",
              "    </tr>\n",
              "    <tr>\n",
              "      <th>short_description</th>\n",
              "      <td>8</td>\n",
              "    </tr>\n",
              "    <tr>\n",
              "      <th>authors</th>\n",
              "      <td>5</td>\n",
              "    </tr>\n",
              "    <tr>\n",
              "      <th>date</th>\n",
              "      <td>0</td>\n",
              "    </tr>\n",
              "  </tbody>\n",
              "</table>\n",
              "</div><br><label><b>dtype:</b> int64</label>"
            ]
          },
          "metadata": {},
          "execution_count": 75
        }
      ],
      "source": [
        "df.isnull().sum()"
      ]
    },
    {
      "cell_type": "code",
      "execution_count": 76,
      "id": "9d5ea36f-2106-42a7-b6f5-9d860a7065da",
      "metadata": {
        "id": "9d5ea36f-2106-42a7-b6f5-9d860a7065da"
      },
      "outputs": [],
      "source": [
        "df = df.dropna(subset=['authors', 'short_description', 'category'])"
      ]
    },
    {
      "cell_type": "code",
      "execution_count": 77,
      "id": "05c759a0-f55a-451c-a076-9a08b44d6a41",
      "metadata": {
        "id": "05c759a0-f55a-451c-a076-9a08b44d6a41",
        "outputId": "1b189f2a-2068-4448-a7dd-1049cf5bd22b",
        "colab": {
          "base_uri": "https://localhost:8080/",
          "height": 272
        }
      },
      "outputs": [
        {
          "output_type": "execute_result",
          "data": {
            "text/plain": [
              "link                 0\n",
              "headline             0\n",
              "category             0\n",
              "short_description    0\n",
              "authors              0\n",
              "date                 0\n",
              "dtype: int64"
            ],
            "text/html": [
              "<div>\n",
              "<style scoped>\n",
              "    .dataframe tbody tr th:only-of-type {\n",
              "        vertical-align: middle;\n",
              "    }\n",
              "\n",
              "    .dataframe tbody tr th {\n",
              "        vertical-align: top;\n",
              "    }\n",
              "\n",
              "    .dataframe thead th {\n",
              "        text-align: right;\n",
              "    }\n",
              "</style>\n",
              "<table border=\"1\" class=\"dataframe\">\n",
              "  <thead>\n",
              "    <tr style=\"text-align: right;\">\n",
              "      <th></th>\n",
              "      <th>0</th>\n",
              "    </tr>\n",
              "  </thead>\n",
              "  <tbody>\n",
              "    <tr>\n",
              "      <th>link</th>\n",
              "      <td>0</td>\n",
              "    </tr>\n",
              "    <tr>\n",
              "      <th>headline</th>\n",
              "      <td>0</td>\n",
              "    </tr>\n",
              "    <tr>\n",
              "      <th>category</th>\n",
              "      <td>0</td>\n",
              "    </tr>\n",
              "    <tr>\n",
              "      <th>short_description</th>\n",
              "      <td>0</td>\n",
              "    </tr>\n",
              "    <tr>\n",
              "      <th>authors</th>\n",
              "      <td>0</td>\n",
              "    </tr>\n",
              "    <tr>\n",
              "      <th>date</th>\n",
              "      <td>0</td>\n",
              "    </tr>\n",
              "  </tbody>\n",
              "</table>\n",
              "</div><br><label><b>dtype:</b> int64</label>"
            ]
          },
          "metadata": {},
          "execution_count": 77
        }
      ],
      "source": [
        "df.isnull().sum()"
      ]
    },
    {
      "cell_type": "markdown",
      "id": "93b3fafd-d410-4b08-8912-596c2b79d10f",
      "metadata": {
        "id": "93b3fafd-d410-4b08-8912-596c2b79d10f"
      },
      "source": [
        "## Fixing Incorrect Data Types"
      ]
    },
    {
      "cell_type": "code",
      "execution_count": 78,
      "id": "45827ed2-ee2b-4ff3-9157-be69b02d2650",
      "metadata": {
        "colab": {
          "base_uri": "https://localhost:8080/"
        },
        "id": "45827ed2-ee2b-4ff3-9157-be69b02d2650",
        "outputId": "6fdf0eb6-6bdd-4fca-cbd9-1bc16859f004"
      },
      "outputs": [
        {
          "output_type": "stream",
          "name": "stdout",
          "text": [
            "Before fixing types:\n",
            " link                         object\n",
            "headline                     object\n",
            "category                     object\n",
            "short_description            object\n",
            "authors                      object\n",
            "date                 datetime64[ns]\n",
            "dtype: object\n",
            "\n",
            "After fixing types:\n",
            " link                         object\n",
            "headline                     object\n",
            "category                     object\n",
            "short_description            object\n",
            "authors                      object\n",
            "date                 datetime64[ns]\n",
            "dtype: object\n"
          ]
        }
      ],
      "source": [
        "print(\"Before fixing types:\\n\", df.dtypes)\n",
        "df['date'] = pd.to_datetime(df['date'], errors='coerce') # we just changed data column to datetime\n",
        "print(\"\\nAfter fixing types:\\n\", df.dtypes)"
      ]
    },
    {
      "cell_type": "markdown",
      "id": "ba755a22-d477-4242-a90b-7ef97c1360be",
      "metadata": {
        "id": "ba755a22-d477-4242-a90b-7ef97c1360be"
      },
      "source": [
        "## Standardizing Text Data\n",
        "\n",
        "Text data can have inconsistent capitalization or extra spaces.  \n",
        "We'll clean and standardize the text columns to make them uniform."
      ]
    },
    {
      "cell_type": "code",
      "execution_count": 79,
      "id": "94197f11-dce4-4650-af7a-afcf0594625d",
      "metadata": {
        "colab": {
          "base_uri": "https://localhost:8080/"
        },
        "id": "94197f11-dce4-4650-af7a-afcf0594625d",
        "outputId": "a36b7464-3ab3-4f50-8114-b82f60dc69d3"
      },
      "outputs": [
        {
          "output_type": "stream",
          "name": "stdout",
          "text": [
            "Unique categories after cleaning:\n",
            "['u.s. news' 'comedy' 'parenting' 'world news' 'culture & arts' 'tech'\n",
            " 'sports' 'entertainment' 'politics' 'weird news']\n"
          ]
        }
      ],
      "source": [
        "text_columns = ['headline', 'category', 'authors']\n",
        "for col in text_columns:\n",
        "    df[col] = df[col].astype(str).str.strip().str.lower()\n",
        "\n",
        "print(\"Unique categories after cleaning:\")\n",
        "print(df['category'].unique()[:10])"
      ]
    },
    {
      "cell_type": "code",
      "execution_count": 80,
      "id": "22043e38-76de-4294-a7a5-eb2457df5a9b",
      "metadata": {
        "colab": {
          "base_uri": "https://localhost:8080/"
        },
        "id": "22043e38-76de-4294-a7a5-eb2457df5a9b",
        "outputId": "cd689b29-4262-4388-8e2d-4069d3a8df99"
      },
      "outputs": [
        {
          "output_type": "stream",
          "name": "stdout",
          "text": [
            "✅ Cleaned dataset successfully saved as 'News_Category_Dataset_v3_cleaned.csv'\n"
          ]
        }
      ],
      "source": [
        "df.to_csv(\"News_Category_Dataset_v3_cleaned.csv\", index=False)\n",
        "print(\"✅ Cleaned dataset successfully saved as 'News_Category_Dataset_v3_cleaned.csv'\")"
      ]
    },
    {
      "cell_type": "markdown",
      "id": "3fef6d26-1166-4d99-878f-16667b2346fd",
      "metadata": {
        "id": "3fef6d26-1166-4d99-878f-16667b2346fd"
      },
      "source": [
        "We have now cleaned our dataset by:\n",
        "- Handling missing values  \n",
        "- Fixing incorrect data types (date column)  \n",
        "- Standardizing text data (headline, category, authors)\n",
        "The dataset is now ready for further exploration or analysis."
      ]
    },
    {
      "cell_type": "code",
      "execution_count": null,
      "id": "aaac443f-02b5-4d3c-8f16-a76e2ec3cc6c",
      "metadata": {
        "id": "aaac443f-02b5-4d3c-8f16-a76e2ec3cc6c"
      },
      "outputs": [],
      "source": []
    }
  ],
  "metadata": {
    "kernelspec": {
      "display_name": "Python 3 (ipykernel)",
      "language": "python",
      "name": "python3"
    },
    "language_info": {
      "codemirror_mode": {
        "name": "ipython",
        "version": 3
      },
      "file_extension": ".py",
      "mimetype": "text/x-python",
      "name": "python",
      "nbconvert_exporter": "python",
      "pygments_lexer": "ipython3",
      "version": "3.11.9"
    },
    "colab": {
      "provenance": [],
      "include_colab_link": true
    }
  },
  "nbformat": 4,
  "nbformat_minor": 5
}